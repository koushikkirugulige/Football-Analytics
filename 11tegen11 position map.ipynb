{
 "cells": [
  {
   "cell_type": "code",
   "execution_count": 1,
   "metadata": {},
   "outputs": [],
   "source": [
    "#edit only this tab\n",
    "#give the folder path of the match\n",
    "path = \"\"\"C:\\\\Users\\\\Koushik\\\\Downloads\\\\open-data-master\\\\open-data-master\\\\data\\\\passmap\\\\ARGNIG\\\\\"\"\"\n",
    "home_team = 'Argentina'\n",
    "away_team = 'Nigeria'"
   ]
  },
  {
   "cell_type": "code",
   "execution_count": 2,
   "metadata": {},
   "outputs": [
    {
     "name": "stdout",
     "output_type": "stream",
     "text": [
      "done\n"
     ]
    }
   ],
   "source": [
    "import json\n",
    "import os\n",
    "import codecs\n",
    "from pandas.io.json import json_normalize\n",
    "import numpy as np\n",
    "#import seaborn as sns\n",
    "import pandas as pd\n",
    "import matplotlib.pyplot as plt\n",
    "from matplotlib.patches import Arc, Rectangle, ConnectionPatch\n",
    "from matplotlib.offsetbox import  OffsetImage\n",
    "#import squarify\n",
    "from functools import reduce\n",
    "\n",
    "Xg_req = pd.DataFrame(data=None)\n",
    "for filename in (os.listdir(path)):\n",
    "    #print(filename)\n",
    "    \n",
    "    with codecs.open(\"%s\" % path + filename,encoding='utf-8') as data_file:    \n",
    "        data = json.load(data_file)\n",
    "        df = pd.DataFrame(data=None)\n",
    "        \n",
    "        df = json_normalize(data, sep = \"_\")\n",
    "        \n",
    "        #df =  df[(df['type_name'] == \"Shot\")]\n",
    "        #df = df.loc[:,['location','shot_body_part_id','shot_end_location','shot_one_on_one','shot_technique_id','shot_type_id','under_pressure','shot_outcome_id']]\n",
    "        #print(df.shape)\n",
    "    Xg_req = Xg_req.append(df,ignore_index=True,sort=False)\n",
    "        #df.drop(df.index, inplace=True)\n",
    "        \n",
    "print(\"done\")\n",
    "df = Xg_req"
   ]
  },
  {
   "cell_type": "code",
   "execution_count": 3,
   "metadata": {},
   "outputs": [],
   "source": [
    "#type_id=30 is pass event AND type_id=19 is substitution event\n",
    "\n",
    "pass_m = df.query('type_id == 30')\n",
    "substitution = df.query('type_id == 19')\n",
    "#pass_m = df.query('type_name == pass')\n"
   ]
  },
  {
   "cell_type": "code",
   "execution_count": 4,
   "metadata": {},
   "outputs": [
    {
     "name": "stdout",
     "output_type": "stream",
     "text": [
      "['Odion Jude Ighalo' 'Alex Iwobi' 'Simeon Tochukwu Nwankwo']\n",
      "['Cristian David Pavón' 'Maximiliano Eduardo Meza'\n",
      " 'Sergio Leonel Agüero del Castillo']\n"
     ]
    }
   ],
   "source": [
    "#this cell is WIP\n",
    "substitution_home = set()\n",
    "substitution_home = substitution[substitution.team_name == home_team]\n",
    "substitution_home = substitution_home['substitution_replacement_name'].unique()\n",
    "substitution_away = set()\n",
    "substitution_away = substitution[substitution.team_name == away_team]\n",
    "substitution_away = substitution_away['substitution_replacement_name'].unique()\n",
    "print(substitution_away)\n",
    "print(substitution_home)"
   ]
  },
  {
   "cell_type": "code",
   "execution_count": 5,
   "metadata": {},
   "outputs": [],
   "source": [
    "# to get \n",
    "\n",
    "home_player = pass_m[(pass_m.team_name == home_team)] \n",
    "home_team_list = set()\n",
    "home_team_list = home_player['player_name'].unique()\n",
    "#print(substitution_belgium)\n",
    "#belgium_list = [player for player in belgium_list if player not in substitution_belgium]\n",
    "#belgium_list.remove([x for x in substitution_belgium])#belgium_list - substitution_belgium\n",
    "home_player =pass_m['player_name'].isin(home_team_list)\n",
    "pass_home = pass_m[home_player] #contains 11 players of home team\n",
    "\n",
    "away_player = pass_m[(pass_m.team_name == away_team)] \n",
    "away_list = away_player['player_name'].unique()\n",
    "#away_list = away_list - substitution_brazil\n",
    "away_player = pass_m['player_name'].isin(away_list)\n",
    "pass_away = pass_m[away_player]"
   ]
  },
  {
   "cell_type": "code",
   "execution_count": 6,
   "metadata": {},
   "outputs": [],
   "source": [
    "#print(home_team_list)\n",
    "\n",
    "#home_team_list = np.delete(home_team_list,substitution_home)\n",
    "#print(home_team_list)"
   ]
  },
  {
   "cell_type": "code",
   "execution_count": 7,
   "metadata": {},
   "outputs": [],
   "source": [
    "def draw_pitch(ax):\n",
    "    # focus on only half of the pitch\n",
    "    #Pitch Outline & Centre Line\n",
    "    Pitch = Rectangle([0,0], width = 120, height = 80, fill = False)\n",
    "    #Left, Right Penalty Area and midline\n",
    "    LeftPenalty = Rectangle([0,22.3], width = 14.6, height = 35.3, fill = False)\n",
    "    RightPenalty = Rectangle([105.4,22.3], width = 14.6, height = 35.3, fill = False)\n",
    "    midline = ConnectionPatch([60,0], [60,80], \"data\", \"data\")\n",
    "\n",
    "    #Left, Right 6-yard Box\n",
    "    LeftSixYard = Rectangle([0,32], width = 4.9, height = 16, fill = False)\n",
    "    RightSixYard = Rectangle([115.1,32], width = 4.9, height = 16, fill = False)\n",
    "\n",
    "\n",
    "    #Prepare Circles\n",
    "    centreCircle = plt.Circle((60,40),8.1,color=\"black\", fill = False)\n",
    "    centreSpot = plt.Circle((60,40),0.71,color=\"black\")\n",
    "    #Penalty spots and Arcs around penalty boxes\n",
    "    leftPenSpot = plt.Circle((9.7,40),0.71,color=\"black\")\n",
    "    rightPenSpot = plt.Circle((110.3,40),0.71,color=\"black\")\n",
    "    leftArc = Arc((9.7,40),height=16.2,width=16.2,angle=0,theta1=310,theta2=50,color=\"black\")\n",
    "    rightArc = Arc((110.3,40),height=16.2,width=16.2,angle=0,theta1=130,theta2=230,color=\"black\")\n",
    "    \n",
    "    element = [Pitch, LeftPenalty, RightPenalty, midline, LeftSixYard, RightSixYard, centreCircle, \n",
    "               centreSpot, rightPenSpot, leftPenSpot, leftArc, rightArc]\n",
    "    for i in element:\n",
    "        ax.add_patch(i)"
   ]
  },
  {
   "cell_type": "code",
   "execution_count": 13,
   "metadata": {},
   "outputs": [
    {
     "data": {
      "image/png": "[encoded data removed]",
      "text/plain": [
       "<Figure size 504x360 with 1 Axes>"
      ]
     },
     "metadata": {
      "needs_background": "light"
     },
     "output_type": "display_data"
    }
   ],
   "source": [
    "players = home_team_list\n",
    "#['Thibaut Courtois','Jan Vertonghen','Vincent Kompany','Toby Albertine Maurits Alderweireld','Thomas Meunier','Nacer Chadli','Axel Witsel','Marouane Fellaini-Bakkioui','Eden Hazard','Kevin De Bruyne','Romelu Lukaku Menama']\n",
    "fig=plt.figure() #set up the figures\n",
    "\n",
    "fig.set_size_inches(7, 5)\n",
    "ax=fig.add_subplot(1,1,1)\n",
    "draw_pitch(ax) #overlay our different objects on the pitch\n",
    "plt.ylim(-2, 82)\n",
    "plt.xlim(-2, 122)\n",
    "plt.axis('off')\n",
    "for player in players:\n",
    "    x_avg = 0\n",
    "    y_avg = 0\n",
    "    if player not in substitution_home: \n",
    "        play_temp = pass_home[(pass_home.player_name == player)]\n",
    "    #print(play_temp.location, players[player])\n",
    "        for i in range(len(play_temp)):\n",
    "            x_avg = x_avg + play_temp.iloc[i]['location'][0]\n",
    "            y_avg = y_avg + play_temp.iloc[i]['location'][1]\n",
    "        x_avg = x_avg/len(play_temp)\n",
    "        y_avg = y_avg/len(play_temp)\n",
    "    #print(x_avg,y_avg,players[player])\n",
    "        ax.scatter(x_avg, y_avg, s=100)  \n",
    "        ax.annotate(player.split()[0] +str(' ') + player.split()[-1], (x_avg, y_avg))\n",
    "plt.show()"
   ]
  },
  {
   "cell_type": "code",
   "execution_count": 9,
   "metadata": {},
   "outputs": [
    {
     "data": {
      "image/png": "[encoded data removed]",
      "text/plain": [
       "<Figure size 504x360 with 1 Axes>"
      ]
     },
     "metadata": {
      "needs_background": "light"
     },
     "output_type": "display_data"
    }
   ],
   "source": [
    "players = away_list #['Alisson Ramsés Becker','Fágner Conserva Lemos','Fernando Luiz Rosa','Gabriel Fernando de Jesus','João Miranda de Souza Filho','José Paulo Bezzera Maciel Júnior','Marcelo Vieira da Silva Júnior','Neymar da Silva Santos Junior','Philippe Coutinho Correia','Thiago Emiliano da Silva','Willian Borges da Silva']\n",
    "fig=plt.figure() #set up the figures\n",
    "\n",
    "fig.set_size_inches(7, 5)\n",
    "ax=fig.add_subplot(1,1,1)\n",
    "draw_pitch(ax) #overlay our different objects on the pitch\n",
    "plt.ylim(-2, 82)\n",
    "plt.xlim(-2, 122)\n",
    "plt.axis('off')\n",
    "\n",
    "for player in players:\n",
    "    x_avg = 0\n",
    "    y_avg = 0\n",
    "    if player not in substitution_away:\n",
    "    #print(players[player])\n",
    "        play_temp = pass_away[(pass_away.player_name == player)]\n",
    "    #print(play_temp.location, players[player])\n",
    "        for i in range(len(play_temp)):\n",
    "            x_avg = x_avg + play_temp.iloc[i]['location'][0]\n",
    "            y_avg = y_avg + play_temp.iloc[i]['location'][1]\n",
    "        x_avg = x_avg/len(play_temp)\n",
    "        y_avg = y_avg/len(play_temp)\n",
    "    #print(x_avg,y_avg,players[player])\n",
    "        ax.scatter(x_avg, y_avg, s=150)  \n",
    "        ax.annotate(player.split()[0] +str(' ') + player.split()[-1], (x_avg, y_avg))\n",
    "plt.show()"
   ]
  }
 ],
 "metadata": {
  "kernelspec": {
   "display_name": "Python 3",
   "language": "python",
   "name": "python3"
  },
  "language_info": {
   "codemirror_mode": {
    "name": "ipython",
    "version": 3
   },
   "file_extension": ".py",
   "mimetype": "text/x-python",
   "name": "python",
   "nbconvert_exporter": "python",
   "pygments_lexer": "ipython3",
   "version": "3.6.8"
  }
 },
 "nbformat": 4,
 "nbformat_minor": 2
}
